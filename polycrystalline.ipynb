{
 "cells": [
  {
   "cell_type": "markdown",
   "id": "9a56cc6f",
   "metadata": {},
   "source": [
    "# Workflow to calculate the quantum efficiency of a polycrystalline material"
   ]
  },
  {
   "cell_type": "code",
   "execution_count": 2,
   "id": "3a8845ba",
   "metadata": {},
   "outputs": [
    {
     "ename": "ImportError",
     "evalue": "cannot import name 'cal_surface_energy' from 'functions' (c:\\Users\\Felix Mildner\\Desktop\\University\\London - Imperial\\PhD\\Project\\coding\\photoemission\\functions.py)",
     "output_type": "error",
     "traceback": [
      "\u001b[1;31m---------------------------------------------------------------------------\u001b[0m",
      "\u001b[1;31mImportError\u001b[0m                               Traceback (most recent call last)",
      "\u001b[1;32mC:\\Users\\FELIXM~1\\AppData\\Local\\Temp/ipykernel_18916/2422794544.py\u001b[0m in \u001b[0;36m<module>\u001b[1;34m\u001b[0m\n\u001b[0;32m      6\u001b[0m \u001b[1;32mfrom\u001b[0m \u001b[0mpymatgen\u001b[0m\u001b[1;33m.\u001b[0m\u001b[0manalysis\u001b[0m\u001b[1;33m.\u001b[0m\u001b[0mwulff\u001b[0m \u001b[1;32mimport\u001b[0m \u001b[0mWulffShape\u001b[0m\u001b[1;33m\u001b[0m\u001b[1;33m\u001b[0m\u001b[0m\n\u001b[0;32m      7\u001b[0m \u001b[1;33m\u001b[0m\u001b[0m\n\u001b[1;32m----> 8\u001b[1;33m \u001b[1;32mfrom\u001b[0m \u001b[0mfunctions\u001b[0m \u001b[1;32mimport\u001b[0m \u001b[0mcal_surface_energy\u001b[0m\u001b[1;33m\u001b[0m\u001b[1;33m\u001b[0m\u001b[0m\n\u001b[0m\u001b[0;32m      9\u001b[0m \u001b[1;32mfrom\u001b[0m \u001b[0mfunctions\u001b[0m \u001b[1;32mimport\u001b[0m \u001b[0mget_qe\u001b[0m\u001b[1;33m\u001b[0m\u001b[1;33m\u001b[0m\u001b[0m\n",
      "\u001b[1;31mImportError\u001b[0m: cannot import name 'cal_surface_energy' from 'functions' (c:\\Users\\Felix Mildner\\Desktop\\University\\London - Imperial\\PhD\\Project\\coding\\photoemission\\functions.py)"
     ]
    }
   ],
   "source": [
    "from ase.calculators.castep import Castep\n",
    "from ase.atoms import Atoms\n",
    "\n",
    "from pymatgen.core.surface import SlabGenerator, generate_all_slabs\n",
    "from pymatgen.io.ase import AseAtomsAdaptor\n",
    "from pymatgen.analysis.wulff import WulffShape\n",
    "\n",
    "from functions import calc_surface_energy\n",
    "from functions import get_qe"
   ]
  },
  {
   "cell_type": "markdown",
   "id": "d855d57c",
   "metadata": {},
   "source": [
    "I recommend using pymatgen to generate the bulk/slab and then convert it to an ASE atom object. The advantages of this approach are:\n",
    "- pymatgen has a better bulk/slab generation algorithm \n",
    "- castep can link a calculator to the Atom object\n"
   ]
  },
  {
   "cell_type": "markdown",
   "id": "11bcded0",
   "metadata": {},
   "source": [
    "#### Generate the bulk structure"
   ]
  },
  {
   "cell_type": "code",
   "execution_count": null,
   "id": "59484dd1",
   "metadata": {},
   "outputs": [],
   "source": []
  },
  {
   "cell_type": "markdown",
   "id": "3ea28b4b",
   "metadata": {},
   "source": [
    "#### Generate the surface structure"
   ]
  },
  {
   "cell_type": "code",
   "execution_count": null,
   "id": "488fdb63",
   "metadata": {},
   "outputs": [],
   "source": []
  },
  {
   "cell_type": "markdown",
   "id": "1dad63c5",
   "metadata": {},
   "source": [
    "#### Run the calculations"
   ]
  },
  {
   "cell_type": "code",
   "execution_count": null,
   "id": "20413184",
   "metadata": {},
   "outputs": [],
   "source": []
  },
  {
   "cell_type": "markdown",
   "id": "a4e4fa56",
   "metadata": {},
   "source": [
    "#### Extract the final energies"
   ]
  },
  {
   "cell_type": "code",
   "execution_count": null,
   "id": "2b9c8d64",
   "metadata": {},
   "outputs": [],
   "source": []
  },
  {
   "cell_type": "markdown",
   "id": "d04f1796",
   "metadata": {},
   "source": [
    "#### Calculate the surface energy"
   ]
  },
  {
   "cell_type": "code",
   "execution_count": null,
   "id": "ec02c66c",
   "metadata": {},
   "outputs": [],
   "source": []
  },
  {
   "cell_type": "markdown",
   "id": "0033b00a",
   "metadata": {},
   "source": [
    "#### Get the % of each surface from a  Wulff construction"
   ]
  },
  {
   "cell_type": "code",
   "execution_count": null,
   "id": "05050ec2",
   "metadata": {},
   "outputs": [],
   "source": []
  },
  {
   "cell_type": "markdown",
   "id": "3fb29d7a",
   "metadata": {},
   "source": [
    "#### Launch OptaDOS"
   ]
  },
  {
   "cell_type": "code",
   "execution_count": null,
   "id": "dddea01b",
   "metadata": {},
   "outputs": [],
   "source": []
  },
  {
   "cell_type": "markdown",
   "id": "55e75230",
   "metadata": {},
   "source": [
    "#### Get QE from OptaDOS output"
   ]
  },
  {
   "cell_type": "code",
   "execution_count": null,
   "id": "2cbebab9",
   "metadata": {},
   "outputs": [],
   "source": []
  },
  {
   "cell_type": "markdown",
   "id": "74d343e1",
   "metadata": {},
   "source": [
    "#### Calculate the weighted average QE"
   ]
  },
  {
   "cell_type": "code",
   "execution_count": null,
   "id": "47ac02c9",
   "metadata": {},
   "outputs": [],
   "source": []
  },
  {
   "cell_type": "markdown",
   "id": "356ca21b",
   "metadata": {},
   "source": [
    "#### Calculate and display plenty more properties (DOS, bands, ...)"
   ]
  },
  {
   "cell_type": "code",
   "execution_count": null,
   "id": "dea0c939",
   "metadata": {},
   "outputs": [],
   "source": []
  }
 ],
 "metadata": {
  "interpreter": {
   "hash": "f7eefe3ae6cbdb5efa91edbea213e67a987949e5fbb84a0e28a74792fd6a2674"
  },
  "kernelspec": {
   "display_name": "Python 3.9.9 64-bit",
   "name": "python3"
  },
  "language_info": {
   "codemirror_mode": {
    "name": "ipython",
    "version": 3
   },
   "file_extension": ".py",
   "mimetype": "text/x-python",
   "name": "python",
   "nbconvert_exporter": "python",
   "pygments_lexer": "ipython3",
   "version": "3.9.9"
  }
 },
 "nbformat": 4,
 "nbformat_minor": 5
}
